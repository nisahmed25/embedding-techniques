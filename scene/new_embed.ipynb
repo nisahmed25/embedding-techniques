{
 "cells": [
  {
   "cell_type": "code",
   "execution_count": 1,
   "metadata": {},
   "outputs": [],
   "source": [
    "import warnings\n",
    "warnings.filterwarnings('always')\n",
    "warnings.filterwarnings('ignore')\n",
    "# keras imports\n",
    "import json\n",
    "from _init_model import get_model\n",
    "from input_img import inp_img\n",
    "from padded_image import crop_pad\n",
    "import os\n",
    "import glob\n",
    "import pandas as pd"
   ]
  },
  {
   "cell_type": "code",
   "execution_count": 2,
   "metadata": {},
   "outputs": [],
   "source": [
    "configs = [item for item in glob.glob('./config/*') if item.endswith('.json')]"
   ]
  },
  {
   "cell_type": "code",
   "execution_count": 3,
   "metadata": {},
   "outputs": [
    {
     "name": "stdout",
     "output_type": "stream",
     "text": [
      "mobilenet\n",
      "WARNING:tensorflow:`input_shape` is undefined or non-square, or `rows` is not in [128, 160, 192, 224]. Weights for input shape (224, 224) will be loaded as the default.\n",
      "       0         1         2     3     4     5         6         7     \\\n",
      "0  1.510121  0.328384  0.324786   0.0   0.0   0.0  0.938769  0.222504   \n",
      "\n",
      "       8         9     ...      1014      1015      1016      1017  1018  \\\n",
      "0  0.577665  0.956929  ...  0.110476  1.317745  0.048225  0.022923   0.0   \n",
      "\n",
      "       1019      1020      1021  1022      1023  \n",
      "0  1.677008  0.416077  0.045895   0.0  0.075201  \n",
      "\n",
      "[1 rows x 1024 columns]\n",
      "inceptionv3\n",
      "       0     1         2         3          4         5         6     \\\n",
      "0  0.583731   0.0  0.135962  9.284571  15.486812  0.632257  0.169561   \n",
      "\n",
      "       7         8         9     ...       2038      2039      2040      2041  \\\n",
      "0  8.917044  1.766332  9.914525  ...  16.504818  0.016208  0.890432  1.120336   \n",
      "\n",
      "       2042      2043      2044      2045      2046      2047  \n",
      "0  5.624776  1.958581  2.366982  0.491356  0.056564  0.127885  \n",
      "\n",
      "[1 rows x 2048 columns]\n",
      "efficientnetb3\n",
      "       0         1         2         3         4         5         6     \\\n",
      "0 -0.113626 -0.131181  0.042315  0.018164 -0.148935 -0.163412  0.570205   \n",
      "\n",
      "       7        8         9     ...      1526      1527      1528      1529  \\\n",
      "0 -0.142908 -0.19681  0.648883  ...  0.384566 -0.023759 -0.154445 -0.222721   \n",
      "\n",
      "       1530      1531      1532      1533      1534      1535  \n",
      "0 -0.191066 -0.118008 -0.206819 -0.022202 -0.082005  0.124743  \n",
      "\n",
      "[1 rows x 1536 columns]\n"
     ]
    }
   ],
   "source": [
    "for config in configs:\n",
    "    with open(config) as f:\n",
    "        config = json.load(f)\n",
    "    print(config['model'])\n",
    "    model_embed, preprocess_input, image_size = get_model(config)\n",
    "    img, pts = inp_img()\n",
    "    padded_img = crop_pad(image_size, img, pts)\n",
    "    embeddings = model_embed.predict(padded_img)\n",
    "    df = pd.DataFrame(embeddings)\n",
    "    print(df)\n",
    "#     df.to_csv(r'./saved_csv/{}test.csv'.format(config['model']), index = False)"
   ]
  },
  {
   "cell_type": "code",
   "execution_count": null,
   "metadata": {},
   "outputs": [],
   "source": []
  }
 ],
 "metadata": {
  "kernelspec": {
   "display_name": "17flower",
   "language": "python",
   "name": "17flower"
  },
  "language_info": {
   "codemirror_mode": {
    "name": "ipython",
    "version": 3
   },
   "file_extension": ".py",
   "mimetype": "text/x-python",
   "name": "python",
   "nbconvert_exporter": "python",
   "pygments_lexer": "ipython3",
   "version": "3.6.9"
  }
 },
 "nbformat": 4,
 "nbformat_minor": 4
}
